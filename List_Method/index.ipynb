{
 "cells": [
  {
   "cell_type": "markdown",
   "metadata": {},
   "source": [
    "# List"
   ]
  },
  {
   "cell_type": "code",
   "execution_count": 5,
   "metadata": {},
   "outputs": [
    {
     "name": "stdout",
     "output_type": "stream",
     "text": [
      "Zafran Khan\n"
     ]
    }
   ],
   "source": [
    "name = [\"Zafran Khan\" , \"Naveed\" , \"Rafi\"]\n",
    "print(name[-3])"
   ]
  },
  {
   "cell_type": "code",
   "execution_count": 6,
   "metadata": {},
   "outputs": [
    {
     "name": "stdout",
     "output_type": "stream",
     "text": [
      "founder of DDF\n"
     ]
    }
   ],
   "source": [
    "names : list[any] = [\"ddd\" , \"ddf\" , \"fsd\"]\n",
    "\n",
    "print(f'founder of {names[-2].upper()}')"
   ]
  },
  {
   "cell_type": "markdown",
   "metadata": {},
   "source": [
    "# Slicing\n"
   ]
  },
  {
   "cell_type": "code",
   "execution_count": 32,
   "metadata": {},
   "outputs": [
    {
     "name": "stdout",
     "output_type": "stream",
     "text": [
      "['A', 'B', 'C', 'D', 'E', 'F', 'G', 'H', 'I', 'J', 'K', 'L', 'M', 'N', 'O', 'P', 'Q', 'R', 'S', 'T', 'U', 'V', 'W', 'X', 'Y', 'Z']\n",
      "['A', 'B', 'C']\n",
      "['A', 'B', 'C', 'D']\n",
      "['A', 'B']\n",
      "['C', 'D', 'E', 'F']\n",
      "Z\n"
     ]
    }
   ],
   "source": [
    "Alphabet : list[str] = list(\"ABCDEFGHIJKLMNOPQRSTUVWXYZ\")\n",
    "print(Alphabet)\n",
    "print(Alphabet[0:3])\n",
    "print(Alphabet[ :4])\n",
    "print(Alphabet[:-24])\n",
    "print(Alphabet[-24:6])\n",
    "print(Alphabet[-1])"
   ]
  },
  {
   "cell_type": "markdown",
   "metadata": {},
   "source": [
    "# List Method"
   ]
  },
  {
   "cell_type": "code",
   "execution_count": 35,
   "metadata": {},
   "outputs": [
    {
     "name": "stdout",
     "output_type": "stream",
     "text": [
      "['Zafran Khan', 'Naveed', 'Rafi']\n",
      "['Zafran Khan', 'Rafi']\n"
     ]
    }
   ],
   "source": [
    "names = [\"Zafran Khan\" , \"Naveed\" , \"Rafi\"]\n",
    "print(names)\n",
    "\n",
    "del names[1]\n",
    "print(names)"
   ]
  }
 ],
 "metadata": {
  "kernelspec": {
   "display_name": "Python 3",
   "language": "python",
   "name": "python3"
  },
  "language_info": {
   "codemirror_mode": {
    "name": "ipython",
    "version": 3
   },
   "file_extension": ".py",
   "mimetype": "text/x-python",
   "name": "python",
   "nbconvert_exporter": "python",
   "pygments_lexer": "ipython3",
   "version": "3.12.0"
  }
 },
 "nbformat": 4,
 "nbformat_minor": 2
}
